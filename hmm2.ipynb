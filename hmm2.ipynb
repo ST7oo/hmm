{
 "cells": [
  {
   "cell_type": "code",
   "execution_count": 1,
   "metadata": {
    "collapsed": true
   },
   "outputs": [],
   "source": [
    "import numpy as np"
   ]
  },
  {
   "cell_type": "code",
   "execution_count": null,
   "metadata": {
    "collapsed": true
   },
   "outputs": [],
   "source": [
    "np.set_printoptions(suppress=True, precision=5)"
   ]
  },
  {
   "cell_type": "code",
   "execution_count": 144,
   "metadata": {
    "collapsed": true
   },
   "outputs": [],
   "source": [
    "name_states = ['INIT','Onset','Mid','End','FINAL']\n",
    "name_observations = ['C1','C2','C3','C4','C5','C6','C7']\n",
    "A = np.array([[0,1,0,0,0],\n",
    "    [0,0.3,0.7,0,0],\n",
    "    [0,0,0.9,0.1,0],\n",
    "    [0,0,0,0.4,0.6],\n",
    "    [0,0,0,0,0]])\n",
    "B = np.array([[0,0,0,0,0,0,0],\n",
    "    [0.5,0.2,0.3,0,0,0,0],\n",
    "    [0,0,0.2,0.7,0.1,0,0],\n",
    "    [0,0,0,0.1,0,0.5,0.4],\n",
    "     [0,0,0,0,0,0,0]])\n",
    "A_ini = np.array([[0, 1, 0, 0, 0],\n",
    "                  [0, 0.5, 0.5, 0, 0],\n",
    "                  [0, 0, 0.5, 0.5, 0],\n",
    "                  [0, 0, 0, 0.5, 0.5],\n",
    "                  [0, 0, 0, 0, 0]])\n",
    "B_ini = np.array([[0, 0, 0, 0, 0, 0, 0],\n",
    "                  [0.33, 0.33, 0.33, 0, 0, 0, 0],\n",
    "                  [0, 0, 0.33, 0.33, 0.33, 0, 0],\n",
    "                  [0, 0, 0, 0.33, 0, 0.33, 0.33],\n",
    "                  [0, 0, 0, 0, 0, 0, 0]])\n",
    "seq = [['C1','C2','C3','C4','C4','C6','C7'],\n",
    "      ['C2','C2','C5','C4','C4','C6','C6']]\n",
    "seq_train = [['C1', 'C4', 'C6', 'C7', 'C6'],\n",
    "             ['C1', 'C5', 'C7'],\n",
    "             ['C2', 'C1', 'C3', 'C1', 'C1', 'C4', 'C4', 'C4', 'C4', 'C5', 'C4', 'C4', 'C4',\n",
    "                 'C4', 'C5', 'C5', 'C3', 'C4', 'C4', 'C3', 'C3', 'C5', 'C7', 'C6', 'C7'],\n",
    "             ['C2', 'C1', 'C5', 'C4', 'C4', 'C4', 'C4',\n",
    "              'C4', 'C4', 'C4', 'C5', 'C4', 'C4', 'C6'],\n",
    "             ['C3', 'C4', 'C7', 'C7'],\n",
    "             ['C2', 'C3', 'C4', 'C3', 'C4', 'C3', 'C6', 'C6'],\n",
    "             ['C3', 'C4', 'C4', 'C4', 'C4', 'C4', 'C4', 'C4', 'C5', 'C4', 'C4',\n",
    "              'C4', 'C5', 'C4', 'C3', 'C3', 'C4', 'C4', 'C4', 'C3', 'C6'],\n",
    "             ['C3', 'C3', 'C1', 'C4', 'C3', 'C5',\n",
    "                 'C4', 'C4', 'C4', 'C4', 'C4', 'C6'],\n",
    "             ['C2', 'C3', 'C5', 'C4', 'C7'],\n",
    "             ['C2', 'C3', 'C4', 'C4', 'C4', 'C4', 'C4', 'C3', 'C4', 'C4', 'C6'],\n",
    "             ['C1', 'C4', 'C6', 'C7'],\n",
    "             ['C1', 'C4', 'C4', 'C4', 'C4', 'C4', 'C4', 'C4', 'C4', 'C4', 'C4', 'C4', 'C5', 'C4',\n",
    "              'C4', 'C4', 'C4', 'C3', 'C4', 'C4', 'C4', 'C4', 'C5', 'C4', 'C3', 'C5', 'C7'],\n",
    "             ['C2', 'C4', 'C7'],\n",
    "             ['C3', 'C4', 'C7'],\n",
    "             ['C2', 'C1', 'C4', 'C4', 'C4', 'C4', 'C3',\n",
    "              'C4', 'C4', 'C4', 'C3', 'C4', 'C5', 'C7'],\n",
    "             ['C1', 'C4', 'C4', 'C3', 'C3', 'C4', 'C4', 'C4', 'C6', 'C7'],\n",
    "             ['C1', 'C4', 'C4', 'C4', 'C4', 'C4', 'C4', 'C6'],\n",
    "             ['C1', 'C3', 'C4', 'C4', 'C3', 'C5', 'C4', 'C4', 'C3', 'C4', 'C4', 'C3', 'C4', 'C4', 'C3', 'C4', 'C4', 'C4', 'C4', 'C4', 'C4', 'C4', 'C3',\n",
    "              'C5', 'C4', 'C4', 'C4', 'C4', 'C4', 'C4', 'C4', 'C4', 'C3', 'C3', 'C4', 'C4', 'C4', 'C4', 'C4', 'C4', 'C4', 'C4', 'C4', 'C4', 'C7'],\n",
    "             ['C1', 'C3', 'C4', 'C4', 'C4', 'C4', 'C4', 'C3', 'C4', 'C4', 'C4',\n",
    "              'C3', 'C4', 'C4', 'C4', 'C4', 'C4', 'C3', 'C4', 'C4', 'C6', 'C7'],\n",
    "             ['C3', 'C4', 'C6'],\n",
    "             ['C2', 'C4', 'C4', 'C5', 'C6'],\n",
    "             ['C2', 'C4', 'C4', 'C4', 'C4', 'C4', 'C4', 'C4', 'C4', 'C4', 'C4', 'C4',\n",
    "              'C3', 'C4', 'C4', 'C4', 'C3', 'C4', 'C3', 'C4', 'C4', 'C4', 'C4', 'C7'],\n",
    "             ['C1', 'C5', 'C4', 'C4', 'C7'],\n",
    "             ['C1', 'C4', 'C5', 'C4', 'C6'],\n",
    "             ['C3', 'C4', 'C5', 'C4', 'C4', 'C3', 'C4', 'C5', 'C4', 'C3', 'C3', 'C4', 'C4', 'C4',\n",
    "              'C4', 'C4', 'C5', 'C4', 'C5', 'C4', 'C4', 'C5', 'C4', 'C4', 'C4', 'C4', 'C6'],\n",
    "             ['C3', 'C3', 'C3', 'C4', 'C3', 'C5', 'C3', 'C4',\n",
    "              'C5', 'C4', 'C4', 'C4', 'C4', 'C6', 'C4'],\n",
    "             ['C3', 'C5', 'C4', 'C4', 'C4', 'C4', 'C3', 'C4', 'C4', 'C6'],\n",
    "             ['C3', 'C2', 'C1', 'C1', 'C2', 'C3', 'C3', 'C6', 'C6', 'C6'],\n",
    "             ['C3', 'C4', 'C4', 'C4', 'C3', 'C6', 'C6'],\n",
    "             ['C2', 'C4', 'C4', 'C4', 'C4', 'C3', 'C4', 'C4', 'C4', 'C4', 'C3', 'C4', 'C4', 'C5',\n",
    "              'C4', 'C3', 'C3', 'C4', 'C4', 'C4', 'C3', 'C5', 'C3', 'C4', 'C3', 'C7', 'C6'],\n",
    "             ['C1', 'C4', 'C5', 'C4', 'C6', 'C6'],\n",
    "             ['C3', 'C1', 'C4', 'C5', 'C4', 'C4', 'C4', 'C4',\n",
    "              'C3', 'C3', 'C3', 'C4', 'C4', 'C4', 'C7', 'C4'],\n",
    "             ['C1', 'C3', 'C4', 'C4', 'C4', 'C4', 'C4', 'C7', 'C4'],\n",
    "             ['C3', 'C1', 'C4', 'C4', 'C4', 'C5', 'C4', 'C4', 'C4', 'C4', 'C7'],\n",
    "             ['C2', 'C4', 'C4', 'C3', 'C4', 'C3', 'C4', 'C4', 'C4', 'C3', 'C3', 'C4', 'C4', 'C5', 'C4', 'C5', 'C4', 'C4',\n",
    "              'C4', 'C4', 'C4', 'C3', 'C4', 'C4', 'C3', 'C3', 'C4', 'C4', 'C3', 'C4', 'C3', 'C4', 'C4', 'C4', 'C3', 'C6'],\n",
    "             ['C1', 'C4', 'C4', 'C4', 'C4', 'C4', 'C4', 'C4', 'C3', 'C6'],\n",
    "             ['C2', 'C1', 'C4', 'C4', 'C5', 'C4', 'C4', 'C4', 'C3', 'C3', 'C4', 'C4', 'C4', 'C4', 'C3', 'C3', 'C4', 'C4', 'C4',\n",
    "              'C4', 'C3', 'C4', 'C5', 'C4', 'C4', 'C4', 'C4', 'C3', 'C3', 'C5', 'C4', 'C4', 'C4', 'C4', 'C5', 'C4', 'C4'],\n",
    "             ['C1', 'C3', 'C4', 'C3', 'C4', 'C4', 'C4', 'C4', 'C3', 'C6', 'C6'],\n",
    "             ['C1', 'C4', 'C5', 'C4'],\n",
    "             ['C2', 'C1', 'C2', 'C3', 'C3', 'C4', 'C4', 'C5', 'C4', 'C3', 'C6'],\n",
    "             ['C1', 'C4', 'C4', 'C3', 'C4', 'C4', 'C4', 'C5', 'C4', 'C4',\n",
    "              'C4', 'C3', 'C4', 'C4', 'C5', 'C5', 'C3', 'C4', 'C7', 'C7'],\n",
    "             ['C2', 'C3', 'C4', 'C4', 'C4', 'C4', 'C4', 'C4', 'C4', 'C4', 'C3', 'C4', 'C4', 'C3', 'C4', 'C4',\n",
    "              'C4', 'C4', 'C4', 'C4', 'C3', 'C5', 'C4', 'C4', 'C4', 'C4', 'C4', 'C5', 'C4', 'C7', 'C6', 'C7'],\n",
    "             ['C2', 'C3', 'C6'],\n",
    "             ['C3', 'C5', 'C4', 'C4', 'C4', 'C4', 'C4',\n",
    "                 'C3', 'C4', 'C6', 'C6', 'C4', 'C7'],\n",
    "             ['C2', 'C4', 'C4', 'C4', 'C3', 'C4', 'C4', 'C3', 'C4', 'C7'],\n",
    "             ['C3', 'C1', 'C1', 'C1', 'C2', 'C4', 'C4', 'C4',\n",
    "              'C3', 'C4', 'C4', 'C6', 'C6', 'C6', 'C4', 'C7'],\n",
    "             ['C3', 'C2', 'C4', 'C4', 'C4', 'C3', 'C4', 'C4', 'C4', 'C3', 'C5', 'C4', 'C5', 'C3', 'C4',\n",
    "              'C4', 'C4', 'C5', 'C4', 'C4', 'C4', 'C4', 'C4', 'C4', 'C3', 'C4', 'C3', 'C3', 'C6', 'C4'],\n",
    "             ['C1', 'C4', 'C4', 'C4', 'C4', 'C4', 'C3', 'C5', 'C4', 'C4', 'C5', 'C4', 'C4',\n",
    "              'C3', 'C4', 'C3', 'C4', 'C3', 'C4', 'C3', 'C4', 'C3', 'C4', 'C7', 'C7', 'C7'],\n",
    "             ['C1', 'C4', 'C4', 'C5', 'C4', 'C4', 'C4',\n",
    "                 'C4', 'C4', 'C5', 'C6', 'C6', 'C6'],\n",
    "             ['C2', 'C4', 'C4', 'C4', 'C6', 'C7'],\n",
    "             ['C3', 'C4', 'C4', 'C3', 'C4', 'C3', 'C4', 'C4', 'C4',\n",
    "              'C4', 'C3', 'C4', 'C4', 'C4', 'C4', 'C7', 'C7', 'C6'],\n",
    "             ['C3', 'C4', 'C4', 'C3', 'C4', 'C4', 'C5', 'C4', 'C4', 'C4', 'C7'],\n",
    "             ['C3', 'C4', 'C4', 'C6', 'C7'],\n",
    "             ['C1', 'C4', 'C4', 'C4', 'C7', 'C6'],\n",
    "             ['C3', 'C1', 'C3', 'C3', 'C4', 'C4', 'C4', 'C6'],\n",
    "             ['C3', 'C1', 'C4', 'C3', 'C4', 'C4',\n",
    "                 'C4', 'C4', 'C4', 'C3', 'C4', 'C6'],\n",
    "             ['C3', 'C1', 'C1', 'C1', 'C1', 'C3', 'C7', 'C6'],\n",
    "             ['C1', 'C4', 'C6', 'C6'],\n",
    "             ['C3', 'C4', 'C3', 'C4', 'C4', 'C4', 'C3', 'C3', 'C3', 'C6'],\n",
    "             ['C1', 'C3', 'C5', 'C5', 'C4', 'C3', 'C4', 'C4', 'C4', 'C7'],\n",
    "             ['C3', 'C3', 'C7', 'C7'],\n",
    "             ['C1', 'C3', 'C3', 'C4', 'C3', 'C5',\n",
    "                 'C5', 'C3', 'C4', 'C3', 'C4', 'C6'],\n",
    "             ['C1', 'C3', 'C6', 'C6'],\n",
    "             ['C1', 'C4', 'C5', 'C4', 'C4', 'C6', 'C6'],\n",
    "             ['C2', 'C1', 'C4', 'C4', 'C4', 'C4', 'C4', 'C3', 'C3', 'C4'],\n",
    "             ['C3', 'C5', 'C4', 'C3', 'C3', 'C4', 'C4',\n",
    "                 'C4', 'C3', 'C4', 'C5', 'C4', 'C7'],\n",
    "             ['C3', 'C4', 'C4', 'C4', 'C5', 'C4', 'C4', 'C4', 'C4', 'C4',\n",
    "              'C4', 'C4', 'C3', 'C4', 'C4', 'C3', 'C4', 'C7', 'C7'],\n",
    "             ['C2', 'C1', 'C3', 'C3', 'C4', 'C3', 'C4',\n",
    "                 'C3', 'C4', 'C4', 'C4', 'C4', 'C6'],\n",
    "             ['C2', 'C1', 'C4', 'C5', 'C4', 'C4', 'C7', 'C4', 'C6', 'C6'],\n",
    "             ['C1', 'C1', 'C3', 'C4', 'C4', 'C4', 'C4', 'C4', 'C4', 'C3', 'C7'],\n",
    "             ['C3', 'C1', 'C4', 'C5', 'C4', 'C6'],\n",
    "             ['C1', 'C3', 'C4', 'C3', 'C5', 'C4', 'C3', 'C4',\n",
    "              'C4', 'C4', 'C4', 'C3', 'C6', 'C6', 'C6'],\n",
    "             ['C2', 'C1', 'C3', 'C1', 'C1', 'C3', 'C4', 'C4', 'C4', 'C6', 'C6'],\n",
    "             ['C1', 'C2', 'C3', 'C5', 'C4', 'C4', 'C4', 'C4', 'C4', 'C3',\n",
    "              'C4', 'C4', 'C4', 'C4', 'C4', 'C4', 'C4', 'C7', 'C6'],\n",
    "             ['C3', 'C3', 'C4', 'C4', 'C6'],\n",
    "             ['C1', 'C4', 'C4', 'C4', 'C5', 'C3', 'C4', 'C4', 'C4', 'C3', 'C4', 'C4', 'C4', 'C3', 'C4', 'C3', 'C4', 'C4', 'C3', 'C4', 'C3', 'C4',\n",
    "              'C3', 'C4', 'C4', 'C4', 'C4', 'C5', 'C3', 'C4', 'C4', 'C4', 'C4', 'C3', 'C4', 'C3', 'C4', 'C3', 'C4', 'C4', 'C4', 'C4', 'C6'],\n",
    "             ['C1', 'C3', 'C4', 'C4', 'C6', 'C6', 'C7'],\n",
    "             ['C2', 'C3', 'C4', 'C4', 'C4', 'C4', 'C7'],\n",
    "             ['C1', 'C3', 'C4', 'C4', 'C6', 'C6'],\n",
    "             ['C1', 'C3', 'C3', 'C4', 'C3', 'C3', 'C4', 'C4', 'C4', 'C4', 'C5', 'C4',\n",
    "              'C4', 'C5', 'C4', 'C4', 'C3', 'C4', 'C4', 'C4', 'C3', 'C3', 'C7'],\n",
    "             ['C2', 'C1', 'C4', 'C3', 'C3', 'C4', 'C3', 'C4', 'C4', 'C4',\n",
    "              'C3', 'C4', 'C4', 'C3', 'C4', 'C5', 'C4', 'C5', 'C6', 'C7'],\n",
    "             ['C1', 'C4', 'C4', 'C4', 'C3', 'C4', 'C4', 'C4', 'C4', 'C4', 'C4', 'C4', 'C4', 'C4', 'C4',\n",
    "              'C4', 'C4', 'C3', 'C3', 'C5', 'C5', 'C5', 'C4', 'C3', 'C4', 'C4', 'C4', 'C3', 'C7'],\n",
    "             ['C1', 'C4', 'C4', 'C4', 'C5', 'C4', 'C4',\n",
    "              'C4', 'C4', 'C3', 'C4', 'C4', 'C4', 'C7'],\n",
    "             ['C2', 'C4', 'C5', 'C4', 'C4', 'C4', 'C4', 'C4', 'C3', 'C4',\n",
    "              'C4', 'C4', 'C4', 'C3', 'C4', 'C4', 'C4', 'C7', 'C6'],\n",
    "             ['C2', 'C4', 'C3', 'C5', 'C4', 'C3', 'C4', 'C4', 'C4', 'C3', 'C4', 'C4',\n",
    "              'C4', 'C4', 'C4', 'C4', 'C4', 'C5', 'C5', 'C4', 'C3', 'C3', 'C3', 'C6'],\n",
    "             ['C1', 'C4', 'C3', 'C4', 'C4', 'C4', 'C4', 'C4', 'C4',\n",
    "              'C4', 'C4', 'C4', 'C4', 'C4', 'C4', 'C4', 'C6', 'C6'],\n",
    "             ['C3', 'C3', 'C4', 'C4', 'C4', 'C4',\n",
    "                 'C5', 'C4', 'C4', 'C4', 'C5', 'C7'],\n",
    "             ['C3', 'C4', 'C4'],\n",
    "             ['C1', 'C4', 'C4', 'C7'],\n",
    "             ['C1', 'C3', 'C4', 'C5', 'C3', 'C4', 'C7', 'C6'],\n",
    "             ['C3', 'C4', 'C4', 'C4', 'C4', 'C4', 'C4', 'C7', 'C4', 'C7'],\n",
    "             ['C1', 'C3', 'C4', 'C4'],\n",
    "             ['C3', 'C3', 'C4', 'C4', 'C4', 'C4', 'C6'],\n",
    "             ['C3', 'C3', 'C5', 'C4', 'C5', 'C4'],\n",
    "             ['C1', 'C1', 'C4', 'C4', 'C3', 'C4', 'C4', 'C4', 'C4', 'C4',\n",
    "              'C4', 'C4', 'C3', 'C4', 'C6', 'C7', 'C6', 'C6', 'C7'],\n",
    "             ['C3', 'C3', 'C3', 'C4', 'C4', 'C7', 'C6'],\n",
    "             ['C3', 'C1', 'C3', 'C4', 'C4', 'C3', 'C3', 'C6'],\n",
    "             ['C2', 'C3', 'C3', 'C4', 'C4', 'C5', 'C6', 'C7'],\n",
    "             ['C2', 'C4', 'C4', 'C4', 'C4', 'C4', 'C4', 'C4',\n",
    "              'C4', 'C4', 'C4', 'C3', 'C4', 'C4', 'C3', 'C7'],\n",
    "             ['C1', 'C3', 'C2', 'C4', 'C4', 'C6', 'C7', 'C7']]"
   ]
  },
  {
   "cell_type": "code",
   "execution_count": 185,
   "metadata": {
    "collapsed": true
   },
   "outputs": [],
   "source": [
    "A2 = A_ini.copy()\n",
    "B2 = B_ini.copy()\n",
    "N = len(name_states)\n",
    "M = len(name_observations)"
   ]
  },
  {
   "cell_type": "code",
   "execution_count": 206,
   "metadata": {
    "collapsed": false
   },
   "outputs": [],
   "source": [
    "observations = seq_train[4]\n",
    "T = len(observations)\n",
    "# FORWARD\n",
    "alpha = np.zeros([N,T])\n",
    "# initial step\n",
    "yt = name_observations.index(observations[0])\n",
    "for i in np.arange(N):\n",
    "    alpha[i,0] = A2[0,i] * B2[i,yt]\n",
    "# inductive step\n",
    "for t in np.arange(T-1):\n",
    "    yt = name_observations.index(observations[t+1])\n",
    "    for i in np.arange(N):\n",
    "        s = 0\n",
    "        for k in np.arange(N):\n",
    "            s += alpha[k,t] * A2[k,i]\n",
    "        alpha[i,t+1] = s * B2[i,yt]\n",
    "prob_forward = 0\n",
    "for i in np.arange(N):\n",
    "    prob_forward += alpha[i,T-1] * A2[i,N-1]\n",
    "\n",
    "# BACKWARD\n",
    "beta = np.zeros([N,T])\n",
    "# initial step\n",
    "for i in np.arange(N):\n",
    "    beta[i,T-1] = 1.0\n",
    "#     beta[i,T-1] = A2[i,N-1]\n",
    "# inductive step\n",
    "for t in np.arange(T-2,-1,-1):\n",
    "    yt = name_observations.index(observations[t+1])\n",
    "    for i in np.arange(N):\n",
    "        s = 0\n",
    "        for k in np.arange(N):\n",
    "            s += beta[k,t+1] * A2[i,k] * B2[k,yt]\n",
    "        beta[i,t] = s\n",
    "prob_backward = 0\n",
    "yt = name_observations.index(observations[0])\n",
    "for i in np.arange(N):\n",
    "    prob_backward += A2[0,i] * B2[i,yt] * beta[i,0]\n"
   ]
  },
  {
   "cell_type": "code",
   "execution_count": 207,
   "metadata": {
    "collapsed": false
   },
   "outputs": [
    {
     "name": "stderr",
     "output_type": "stream",
     "text": [
      "/home/st/anaconda3/lib/python3.5/site-packages/ipykernel/__main__.py:7: RuntimeWarning: invalid value encountered in double_scalars\n",
      "/home/st/anaconda3/lib/python3.5/site-packages/ipykernel/__main__.py:17: RuntimeWarning: invalid value encountered in double_scalars\n"
     ]
    }
   ],
   "source": [
    "gamma = np.zeros([N,T])\n",
    "for t in np.arange(T):\n",
    "    denominator = 0\n",
    "    for k in np.arange(N):\n",
    "        denominator += alpha[k,t] * beta[k,t]\n",
    "    for i in np.arange(N):\n",
    "        gamma[i,t] = (alpha[i,t] * beta[i,t]) / denominator\n",
    "xi = np.zeros([N,N,T])\n",
    "for t in np.arange(T-1):\n",
    "    denominator = 0\n",
    "    yt = name_observations.index(observations[t+1])\n",
    "    for i in np.arange(N):\n",
    "        for k in np.arange(N):\n",
    "            denominator += alpha[i,t] * A2[i,k] * beta[k,t+1] * B2[k,yt]\n",
    "    for i in np.arange(N):\n",
    "        for k in np.arange(N):\n",
    "            xi[i,k,t] = (alpha[i,t] * A2[i,k] * beta[k,t+1] * B2[k,yt]) / denominator\n"
   ]
  },
  {
   "cell_type": "code",
   "execution_count": 199,
   "metadata": {
    "collapsed": false
   },
   "outputs": [],
   "source": [
    "# UPDATE A\n",
    "for i in np.arange(N):\n",
    "    A2[0,i] = gamma[i,0]\n",
    "for i in np.arange(1,N-1):\n",
    "    for k in np.arange(1,N):\n",
    "        numerator = 0\n",
    "        denominator = 0\n",
    "        for t in np.arange(T):\n",
    "            numerator += xi[i,k,t]\n",
    "            denominator += gamma[i,t]\n",
    "        A2[i,k] = numerator / denominator\n",
    "\n",
    "# UPDATE B\n",
    "for i in np.arange(1,N-1):\n",
    "    for vk in np.arange(M):\n",
    "        numerator = 0\n",
    "        denominator = 0\n",
    "        for t in np.arange(T):\n",
    "            yt = name_observations.index(observations[t])\n",
    "            if yt == vk:\n",
    "                numerator += gamma[i,t]\n",
    "            denominator += gamma[i,t]\n",
    "        B2[i,vk] = numerator / denominator"
   ]
  },
  {
   "cell_type": "code",
   "execution_count": 208,
   "metadata": {
    "collapsed": false,
    "scrolled": true
   },
   "outputs": [
    {
     "data": {
      "text/plain": [
       "array([[ 0.,  0.,  0.,  0.],\n",
       "       [ 0.,  0.,  0.,  0.],\n",
       "       [ 0.,  0.,  0.,  0.],\n",
       "       [ 0.,  0.,  0.,  0.],\n",
       "       [ 0.,  0.,  0.,  0.]])"
      ]
     },
     "execution_count": 208,
     "metadata": {},
     "output_type": "execute_result"
    }
   ],
   "source": [
    "alpha"
   ]
  },
  {
   "cell_type": "code",
   "execution_count": 209,
   "metadata": {
    "collapsed": false
   },
   "outputs": [
    {
     "data": {
      "text/plain": [
       "array([[ 0.,  0.,  0.,  1.],\n",
       "       [ 0.,  0.,  0.,  1.],\n",
       "       [ 0.,  0.,  0.,  1.],\n",
       "       [ 0.,  0.,  0.,  1.],\n",
       "       [ 0.,  0.,  0.,  1.]])"
      ]
     },
     "execution_count": 209,
     "metadata": {},
     "output_type": "execute_result"
    }
   ],
   "source": [
    "beta"
   ]
  },
  {
   "cell_type": "code",
   "execution_count": 210,
   "metadata": {
    "collapsed": false
   },
   "outputs": [
    {
     "data": {
      "text/plain": [
       "array([[ nan,  nan,  nan,  nan],\n",
       "       [ nan,  nan,  nan,  nan],\n",
       "       [ nan,  nan,  nan,  nan],\n",
       "       [ nan,  nan,  nan,  nan],\n",
       "       [ nan,  nan,  nan,  nan]])"
      ]
     },
     "execution_count": 210,
     "metadata": {},
     "output_type": "execute_result"
    }
   ],
   "source": [
    "gamma"
   ]
  },
  {
   "cell_type": "code",
   "execution_count": 203,
   "metadata": {
    "collapsed": false,
    "scrolled": true
   },
   "outputs": [
    {
     "data": {
      "text/plain": [
       "array([[[ 0.,  0.,  0.,  0.,  0.,  0.,  0.,  0.,  0.,  0.,  0.,  0.,  0.,\n",
       "          0.],\n",
       "        [ 0.,  0.,  0.,  0.,  0.,  0.,  0.,  0.,  0.,  0.,  0.,  0.,  0.,\n",
       "          0.],\n",
       "        [ 0.,  0.,  0.,  0.,  0.,  0.,  0.,  0.,  0.,  0.,  0.,  0.,  0.,\n",
       "          0.],\n",
       "        [ 0.,  0.,  0.,  0.,  0.,  0.,  0.,  0.,  0.,  0.,  0.,  0.,  0.,\n",
       "          0.],\n",
       "        [ 0.,  0.,  0.,  0.,  0.,  0.,  0.,  0.,  0.,  0.,  0.,  0.,  0.,\n",
       "          0.]],\n",
       "\n",
       "       [[ 0.,  0.,  0.,  0.,  0.,  0.,  0.,  0.,  0.,  0.,  0.,  0.,  0.,\n",
       "          0.],\n",
       "        [ 1.,  0.,  0.,  0.,  0.,  0.,  0.,  0.,  0.,  0.,  0.,  0.,  0.,\n",
       "          0.],\n",
       "        [ 0.,  1.,  0.,  0.,  0.,  0.,  0.,  0.,  0.,  0.,  0.,  0.,  0.,\n",
       "          0.],\n",
       "        [ 0.,  0.,  0.,  0.,  0.,  0.,  0.,  0.,  0.,  0.,  0.,  0.,  0.,\n",
       "          0.],\n",
       "        [ 0.,  0.,  0.,  0.,  0.,  0.,  0.,  0.,  0.,  0.,  0.,  0.,  0.,\n",
       "          0.]],\n",
       "\n",
       "       [[ 0.,  0.,  0.,  0.,  0.,  0.,  0.,  0.,  0.,  0.,  0.,  0.,  0.,\n",
       "          0.],\n",
       "        [ 0.,  0.,  0.,  0.,  0.,  0.,  0.,  0.,  0.,  0.,  0.,  0.,  0.,\n",
       "          0.],\n",
       "        [ 0.,  0.,  1.,  1.,  1.,  1.,  1.,  1.,  1.,  1.,  1.,  1.,  0.,\n",
       "          0.],\n",
       "        [ 0.,  0.,  0.,  0.,  0.,  0.,  0.,  0.,  0.,  0.,  0.,  0.,  1.,\n",
       "          0.],\n",
       "        [ 0.,  0.,  0.,  0.,  0.,  0.,  0.,  0.,  0.,  0.,  0.,  0.,  0.,\n",
       "          0.]],\n",
       "\n",
       "       [[ 0.,  0.,  0.,  0.,  0.,  0.,  0.,  0.,  0.,  0.,  0.,  0.,  0.,\n",
       "          0.],\n",
       "        [ 0.,  0.,  0.,  0.,  0.,  0.,  0.,  0.,  0.,  0.,  0.,  0.,  0.,\n",
       "          0.],\n",
       "        [ 0.,  0.,  0.,  0.,  0.,  0.,  0.,  0.,  0.,  0.,  0.,  0.,  0.,\n",
       "          0.],\n",
       "        [ 0.,  0.,  0.,  0.,  0.,  0.,  0.,  0.,  0.,  0.,  0.,  0.,  0.,\n",
       "          0.],\n",
       "        [ 0.,  0.,  0.,  0.,  0.,  0.,  0.,  0.,  0.,  0.,  0.,  0.,  0.,\n",
       "          0.]],\n",
       "\n",
       "       [[ 0.,  0.,  0.,  0.,  0.,  0.,  0.,  0.,  0.,  0.,  0.,  0.,  0.,\n",
       "          0.],\n",
       "        [ 0.,  0.,  0.,  0.,  0.,  0.,  0.,  0.,  0.,  0.,  0.,  0.,  0.,\n",
       "          0.],\n",
       "        [ 0.,  0.,  0.,  0.,  0.,  0.,  0.,  0.,  0.,  0.,  0.,  0.,  0.,\n",
       "          0.],\n",
       "        [ 0.,  0.,  0.,  0.,  0.,  0.,  0.,  0.,  0.,  0.,  0.,  0.,  0.,\n",
       "          0.],\n",
       "        [ 0.,  0.,  0.,  0.,  0.,  0.,  0.,  0.,  0.,  0.,  0.,  0.,  0.,\n",
       "          0.]]])"
      ]
     },
     "execution_count": 203,
     "metadata": {},
     "output_type": "execute_result"
    }
   ],
   "source": [
    "xi"
   ]
  },
  {
   "cell_type": "code",
   "execution_count": 204,
   "metadata": {
    "collapsed": false
   },
   "outputs": [
    {
     "data": {
      "text/plain": [
       "array([[ 0.     ,  1.     ,  0.     ,  0.     ,  0.     ],\n",
       "       [ 0.     ,  0.5    ,  0.5    ,  0.     ,  0.     ],\n",
       "       [ 0.     ,  0.     ,  0.90909,  0.09091,  0.     ],\n",
       "       [ 0.     ,  0.     ,  0.     ,  0.     ,  0.     ],\n",
       "       [ 0.     ,  0.     ,  0.     ,  0.     ,  0.     ]])"
      ]
     },
     "execution_count": 204,
     "metadata": {},
     "output_type": "execute_result"
    }
   ],
   "source": [
    "A2"
   ]
  },
  {
   "cell_type": "code",
   "execution_count": 205,
   "metadata": {
    "collapsed": false
   },
   "outputs": [
    {
     "data": {
      "text/plain": [
       "array([[ 0.     ,  0.     ,  0.     ,  0.     ,  0.     ,  0.     ,  0.     ],\n",
       "       [ 0.5    ,  0.5    ,  0.     ,  0.     ,  0.     ,  0.     ,  0.     ],\n",
       "       [ 0.     ,  0.     ,  0.     ,  0.81818,  0.18182,  0.     ,  0.     ],\n",
       "       [ 0.     ,  0.     ,  0.     ,  0.     ,  0.     ,  1.     ,  0.     ],\n",
       "       [ 0.     ,  0.     ,  0.     ,  0.     ,  0.     ,  0.     ,  0.     ]])"
      ]
     },
     "execution_count": 205,
     "metadata": {},
     "output_type": "execute_result"
    }
   ],
   "source": [
    "B2"
   ]
  },
  {
   "cell_type": "code",
   "execution_count": 152,
   "metadata": {
    "collapsed": false
   },
   "outputs": [
    {
     "name": "stderr",
     "output_type": "stream",
     "text": [
      "/home/st/anaconda3/lib/python3.5/site-packages/ipykernel/__main__.py:52: RuntimeWarning: invalid value encountered in double_scalars\n",
      "/home/st/anaconda3/lib/python3.5/site-packages/ipykernel/__main__.py:63: RuntimeWarning: invalid value encountered in double_scalars\n"
     ]
    }
   ],
   "source": [
    "A2 = A_ini.copy()\n",
    "B2 = B_ini.copy()\n",
    "N = len(name_states)\n",
    "M = len(name_observations)\n",
    "# for epoch in np.arange(10):\n",
    "for observations in seq_train:\n",
    "    T = len(observations)\n",
    "    # FORWARD\n",
    "    alpha = np.zeros([N,T])\n",
    "    # initial step\n",
    "    yt = name_observations.index(observations[0])\n",
    "    for i in np.arange(N):\n",
    "        alpha[i,0] = A2[0,i] * B2[i,yt]\n",
    "    # inductive step\n",
    "    for t in np.arange(T-1):\n",
    "        yt = name_observations.index(observations[t+1])\n",
    "        for i in np.arange(N):\n",
    "            s = 0\n",
    "            for k in np.arange(N):\n",
    "                s += alpha[k,t] * A2[k,i]\n",
    "            alpha[i,t+1] = s * B2[i,yt]\n",
    "    prob_forward = 0\n",
    "    for i in np.arange(N):\n",
    "        prob_forward += alpha[i,T-1] * A2[i,N-1]\n",
    "\n",
    "    # BACKWARD\n",
    "    beta = np.zeros([N,T])\n",
    "    # initial step\n",
    "    for i in np.arange(N):\n",
    "        beta[i,T-1] = 1.0\n",
    "    #     beta[i,T-1] = A2[i,N-1]\n",
    "    # inductive step\n",
    "    for t in np.arange(T-2,-1,-1):\n",
    "        yt = name_observations.index(observations[t+1])\n",
    "        for i in np.arange(N):\n",
    "            s = 0\n",
    "            for k in np.arange(N):\n",
    "                s += beta[k,t+1] * A2[i,k] * B2[k,yt]\n",
    "            beta[i,t] = s\n",
    "    prob_backward = 0\n",
    "    yt = name_observations.index(observations[0])\n",
    "    for i in np.arange(N):\n",
    "        prob_backward += A2[0,i] * B2[i,yt] * beta[i,0]\n",
    "\n",
    "    # GAMMA\n",
    "    gamma = np.zeros([N,T])\n",
    "    for t in np.arange(T):\n",
    "        denominator = 0\n",
    "        for k in np.arange(N):\n",
    "            denominator += alpha[k,t] * beta[k,t]\n",
    "        for i in np.arange(N):\n",
    "            gamma[i,t] = (alpha[i,t] * beta[i,t]) / denominator\n",
    "    # XI\n",
    "    xi = np.zeros([N,N,T])\n",
    "    for t in np.arange(T-1):\n",
    "        denominator = 0\n",
    "        yt = name_observations.index(observations[t+1])\n",
    "        for i in np.arange(N):\n",
    "            for k in np.arange(N):\n",
    "                denominator += alpha[i,t] * A2[i,k] * beta[k,t+1] * B2[k,yt]\n",
    "        for i in np.arange(N):\n",
    "            for k in np.arange(N):\n",
    "                xi[i,k,t] = (alpha[i,t] * A2[i,k] * beta[k,t+1] * B2[k,yt]) / denominator\n",
    "\n",
    "    # UPDATE A\n",
    "    for i in np.arange(N):\n",
    "        A2[0,i] = gamma[i,0]\n",
    "    for i in np.arange(1,N-1):\n",
    "        for k in np.arange(1,N):\n",
    "            numerator = 0\n",
    "            denominator = 0\n",
    "            for t in np.arange(T):\n",
    "                numerator += xi[i,k,t]\n",
    "                denominator += gamma[i,t]\n",
    "            A2[i,k] = numerator / denominator\n",
    "    # UPDATE B\n",
    "    for i in np.arange(1,N-1):\n",
    "        for vk in np.arange(M):\n",
    "            numerator = 0\n",
    "            denominator = 0\n",
    "            for t in np.arange(T):\n",
    "                yt = name_observations.index(observations[t])\n",
    "                if yt == vk:\n",
    "                    numerator += gamma[i,t]\n",
    "                denominator += gamma[i,t]\n",
    "    B2[i,vk] = numerator / denominator"
   ]
  },
  {
   "cell_type": "code",
   "execution_count": 153,
   "metadata": {
    "collapsed": false
   },
   "outputs": [
    {
     "data": {
      "text/plain": [
       "array([[ nan,  nan,  nan,  nan,  nan],\n",
       "       [  0.,  nan,  nan,  nan,  nan],\n",
       "       [  0.,  nan,  nan,  nan,  nan],\n",
       "       [  0.,  nan,  nan,  nan,  nan],\n",
       "       [  0.,   0.,   0.,   0.,   0.]])"
      ]
     },
     "execution_count": 153,
     "metadata": {},
     "output_type": "execute_result"
    }
   ],
   "source": [
    "A2"
   ]
  },
  {
   "cell_type": "code",
   "execution_count": 154,
   "metadata": {
    "collapsed": false
   },
   "outputs": [
    {
     "data": {
      "text/plain": [
       "array([[ 0.  ,  0.  ,  0.  ,  0.  ,  0.  ,  0.  ,  0.  ],\n",
       "       [ 0.33,  0.33,  0.33,  0.  ,  0.  ,  0.  ,  0.  ],\n",
       "       [ 0.  ,  0.  ,  0.33,  0.33,  0.33,  0.  ,  0.  ],\n",
       "       [ 0.  ,  0.  ,  0.  ,  0.33,  0.  ,  0.33,   nan],\n",
       "       [ 0.  ,  0.  ,  0.  ,  0.  ,  0.  ,  0.  ,  0.  ]])"
      ]
     },
     "execution_count": 154,
     "metadata": {},
     "output_type": "execute_result"
    }
   ],
   "source": [
    "B2"
   ]
  },
  {
   "cell_type": "code",
   "execution_count": null,
   "metadata": {
    "collapsed": true
   },
   "outputs": [],
   "source": []
  }
 ],
 "metadata": {
  "anaconda-cloud": {},
  "kernelspec": {
   "display_name": "Python [conda root]",
   "language": "python",
   "name": "conda-root-py"
  },
  "language_info": {
   "codemirror_mode": {
    "name": "ipython",
    "version": 3
   },
   "file_extension": ".py",
   "mimetype": "text/x-python",
   "name": "python",
   "nbconvert_exporter": "python",
   "pygments_lexer": "ipython3",
   "version": "3.5.2"
  }
 },
 "nbformat": 4,
 "nbformat_minor": 1
}
