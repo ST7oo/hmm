{
 "cells": [
  {
   "cell_type": "code",
   "execution_count": 20,
   "metadata": {
    "collapsed": false
   },
   "outputs": [],
   "source": [
    "import numpy as np\n",
    "from operator import itemgetter"
   ]
  },
  {
   "cell_type": "code",
   "execution_count": 9,
   "metadata": {
    "collapsed": true
   },
   "outputs": [],
   "source": [
    "states = ['INIT','Onset','Mid','End','FINAL']\n",
    "observations = ['C1','C2','C3','C4','C5','C6','C7']\n",
    "A = [[0,1,0,0,0],\n",
    "    [0,0.3,0.7,0,0],\n",
    "    [0,0,0.9,0.1,0],\n",
    "    [0,0,0,0.4,0.6]]\n",
    "B = [[0,0,0,0,0,0,0],\n",
    "    [0.5,0.2,0.3,0,0,0,0],\n",
    "    [0,0,0.2,0.7,0.1,0,0],\n",
    "    [0,0,0,0.1,0,0.5,0.4]]\n",
    "seq = [['C1','C2','C3','C4','C4','C6','C7'],\n",
    "      ['C2','C2','C5','C4','C4','C6','C6']]"
   ]
  },
  {
   "cell_type": "code",
   "execution_count": 66,
   "metadata": {
    "collapsed": true
   },
   "outputs": [],
   "source": [
    "class HMM:\n",
    "\n",
    "    def __init__(self, A=None, B=None, name_states=None, name_observations=None):\n",
    "        self.A = A\n",
    "        self.B = B\n",
    "        self.name_states = name_states\n",
    "        self.name_observations = name_observations\n",
    "\n",
    "    def gen_sequence(self, num_sequences=1):\n",
    "        def draw_from(probabilities):\n",
    "            return np.random.choice(len(probabilities), 1, p=probabilities)[0]\n",
    "        sequences = []\n",
    "        for i in np.arange(0,num_sequences):\n",
    "            states = []\n",
    "            observations = []\n",
    "            states.append(draw_from(self.A[0]))\n",
    "            observations.append(draw_from(self.B[states[0]]))\n",
    "            t = 1\n",
    "            state = draw_from(self.A[states[t - 1]])\n",
    "            while state < len(self.name_states) - 1:\n",
    "                states.append(state)\n",
    "                observations.append(draw_from(self.B[state]))\n",
    "                t += 1\n",
    "                state = draw_from(self.A[states[t - 1]])\n",
    "            sequences.append(itemgetter(*observations)(self.name_observations))\n",
    "        return sequences"
   ]
  },
  {
   "cell_type": "code",
   "execution_count": 67,
   "metadata": {
    "collapsed": false
   },
   "outputs": [],
   "source": [
    "hmm = HMM(A,B,states,observations)"
   ]
  },
  {
   "cell_type": "code",
   "execution_count": 78,
   "metadata": {
    "collapsed": false
   },
   "outputs": [
    {
     "data": {
      "text/plain": [
       "[('C3', 'C1', 'C4', 'C4', 'C4', 'C4', 'C4', 'C3', 'C6', 'C7'),\n",
       " ('C1', 'C2', 'C4', 'C7'),\n",
       " ('C1', 'C4', 'C3', 'C4', 'C5', 'C4', 'C4', 'C3', 'C6')]"
      ]
     },
     "execution_count": 78,
     "metadata": {},
     "output_type": "execute_result"
    }
   ],
   "source": [
    "hmm.gen_sequence(3)"
   ]
  },
  {
   "cell_type": "code",
   "execution_count": 23,
   "metadata": {
    "collapsed": false
   },
   "outputs": [
    {
     "data": {
      "text/plain": [
       "('C2', 'C4', 'C7')"
      ]
     },
     "execution_count": 23,
     "metadata": {},
     "output_type": "execute_result"
    }
   ],
   "source": [
    "itemgetter(*[1, 3, 6])(observations)"
   ]
  },
  {
   "cell_type": "code",
   "execution_count": 14,
   "metadata": {
    "collapsed": true
   },
   "outputs": [],
   "source": [
    "states = ('Onset','Mid','End')\n",
    "end_state = 'FINAL'\n",
    " \n",
    "observations = ('C1','C2','C3','C4','C5','C6','C7')\n",
    " \n",
    "start_probability = {'Onset': 1, 'Mid': 0,'End':0}\n",
    " \n",
    "transition_probability = {\n",
    "   'Onset' : {'Onset': 0.3, 'Mid': 0.7, 'End': 0, 'FINAL': 0},\n",
    "   'Mid' : {'Onset': 0, 'Mid': 0.9, 'End': 0.1, 'FINAL': 0},\n",
    "   'End' : {'Onset': 0, 'Mid': 0, 'End': 0.4, 'FINAL': 0.6},\n",
    "   }\n",
    " \n",
    "emission_probability = {\n",
    "   'Onset' : {'C1': 0.5, 'C2': 0.2, 'C3': 0.3,'C4':0,'C5':0,'C6':0,'C7':0},\n",
    "   'Mid' : {'C1': 0, 'C2': 0, 'C3': 0.2,'C4':0.7,'C5':0.1,'C6':0,'C7':0},\n",
    "   'End' : {'C1': 0, 'C2': 0, 'C3': 0,'C4':0.1,'C5':0,'C6':0.5,'C7':0.4},\n",
    "   }"
   ]
  },
  {
   "cell_type": "code",
   "execution_count": null,
   "metadata": {
    "collapsed": true
   },
   "outputs": [],
   "source": [
    "states = ('Healthy', 'Fever')\n",
    "end_state = 'E'\n",
    " \n",
    "observations = ('normal', 'cold', 'dizzy')\n",
    " \n",
    "start_probability = {'Healthy': 0.6, 'Fever': 0.4}\n",
    " \n",
    "transition_probability = {\n",
    "   'Healthy' : {'Healthy': 0.69, 'Fever': 0.3, 'E': 0.01},\n",
    "   'Fever' : {'Healthy': 0.4, 'Fever': 0.59, 'E': 0.01},\n",
    "   }\n",
    " \n",
    "emission_probability = {\n",
    "   'Healthy' : {'normal': 0.5, 'cold': 0.4, 'dizzy': 0.1},\n",
    "   'Fever' : {'normal': 0.1, 'cold': 0.3, 'dizzy': 0.6},\n",
    "   }"
   ]
  },
  {
   "cell_type": "code",
   "execution_count": 22,
   "metadata": {
    "collapsed": true
   },
   "outputs": [],
   "source": [
    "def fwd_bkw(x, states, a_0, a, e, end_st):\n",
    "    L = len(x)\n",
    " \n",
    "    fwd = []\n",
    "    f_prev = {}\n",
    "    # forward part of the algorithm\n",
    "    for i, x_i in enumerate(x):\n",
    "        f_curr = {}\n",
    "        for st in states:\n",
    "            if i == 0:\n",
    "                # base case for the forward part\n",
    "                prev_f_sum = a_0[st]\n",
    "            else:\n",
    "                prev_f_sum = sum(f_prev[k]*a[k][st] for k in states)\n",
    " \n",
    "            f_curr[st] = e[st][x_i] * prev_f_sum\n",
    " \n",
    "        fwd.append(f_curr)\n",
    "        f_prev = f_curr\n",
    " \n",
    "    p_fwd = sum(f_curr[k]*a[k][end_st] for k in states)\n",
    " \n",
    "    bkw = []\n",
    "    b_prev = {}\n",
    "    # backward part of the algorithm\n",
    "    for i, x_i_plus in enumerate(reversed(x[1:]+(None,))):\n",
    "        b_curr = {}\n",
    "        for st in states:\n",
    "            if i == 0:\n",
    "                # base case for backward part\n",
    "                b_curr[st] = a[st][end_st]\n",
    "            else:\n",
    "                b_curr[st] = sum(a[st][l]*e[l][x_i_plus]*b_prev[l] for l in states)\n",
    " \n",
    "        bkw.insert(0,b_curr)\n",
    "        b_prev = b_curr\n",
    " \n",
    "    p_bkw = sum(a_0[l] * e[l][x[0]] * b_curr[l] for l in states)\n",
    " \n",
    "    # merging the two parts\n",
    "    posterior = []\n",
    "    for i in range(L):\n",
    "        posterior.append({st: fwd[i][st]*bkw[i][st]/p_fwd for st in states})\n",
    " \n",
    "#     assert p_fwd == p_bkw\n",
    "    return fwd, bkw, posterior, p_fwd, p_bkw"
   ]
  },
  {
   "cell_type": "code",
   "execution_count": 23,
   "metadata": {
    "collapsed": false
   },
   "outputs": [
    {
     "data": {
      "text/plain": [
       "([{'End': 0, 'Mid': 0, 'Onset': 0.5},\n",
       "  {'End': 0.0, 'Mid': 0.0, 'Onset': 0.03},\n",
       "  {'End': 0.0, 'Mid': 0.0042, 'Onset': 0.0026999999999999997},\n",
       "  {'End': 4.2000000000000004e-05, 'Mid': 0.0039689999999999994, 'Onset': 0.0},\n",
       "  {'End': 0.0, 'Mid': 0.00035720999999999995, 'Onset': 0.0},\n",
       "  {'End': 1.78605e-05, 'Mid': 0.0, 'Onset': 0.0},\n",
       "  {'End': 2.85768e-06, 'Mid': 0.0, 'Onset': 0.0}],\n",
       " [{'End': 0.0, 'Mid': 0.0, 'Onset': 3.4292160000000006e-06},\n",
       "  {'End': 0.0, 'Mid': 4.898880000000002e-05, 'Onset': 5.7153600000000015e-05},\n",
       "  {'End': 0.0, 'Mid': 0.0002721600000000001, 'Onset': 0.00021168000000000003},\n",
       "  {'End': 0.0, 'Mid': 0.00043200000000000015, 'Onset': 0.00033600000000000004},\n",
       "  {'End': 0.019200000000000005, 'Mid': 0.004800000000000001, 'Onset': 0.0},\n",
       "  {'End': 0.09600000000000002, 'Mid': 0.024000000000000004, 'Onset': 0.0},\n",
       "  {'End': 0.6, 'Mid': 0, 'Onset': 0}],\n",
       " [{'End': 0.0, 'Mid': 0.0, 'Onset': 1.0000000000000002},\n",
       "  {'End': 0.0, 'Mid': 0.0, 'Onset': 1.0000000000000002},\n",
       "  {'End': 0.0, 'Mid': 0.6666666666666667, 'Onset': 0.3333333333333333},\n",
       "  {'End': 0.0, 'Mid': 1.0000000000000002, 'Onset': 0.0},\n",
       "  {'End': 0.0, 'Mid': 1.0000000000000002, 'Onset': 0.0},\n",
       "  {'End': 1.0000000000000002, 'Mid': 0.0, 'Onset': 0.0},\n",
       "  {'End': 1.0, 'Mid': 0.0, 'Onset': 0.0}],\n",
       " 1.714608e-06,\n",
       " 1.7146080000000003e-06)"
      ]
     },
     "execution_count": 23,
     "metadata": {},
     "output_type": "execute_result"
    }
   ],
   "source": [
    "fwd_bkw(observations,\n",
    "                   states,\n",
    "                   start_probability,\n",
    "                   transition_probability,\n",
    "                   emission_probability,\n",
    "                   end_state)"
   ]
  },
  {
   "cell_type": "code",
   "execution_count": 18,
   "metadata": {
    "collapsed": false
   },
   "outputs": [],
   "source": [
    "def viterbi(obs, states, start_p, trans_p, emit_p):\n",
    "    V = [{}]\n",
    "    for st in states:\n",
    "        V[0][st] = {\"prob\": start_p[st] * emit_p[st][obs[0]], \"prev\": None}\n",
    "    # Run Viterbi when t > 0\n",
    "    for t in range(1, len(obs)):\n",
    "        V.append({})\n",
    "        for st in states:\n",
    "            max_tr_prob = max(V[t-1][prev_st][\"prob\"]*trans_p[prev_st][st] for prev_st in states)\n",
    "            for prev_st in states:\n",
    "                if V[t-1][prev_st][\"prob\"] * trans_p[prev_st][st] == max_tr_prob:\n",
    "                    max_prob = max_tr_prob * emit_p[st][obs[t]]\n",
    "                    V[t][st] = {\"prob\": max_prob, \"prev\": prev_st}\n",
    "                    break\n",
    "    for line in dptable(V):\n",
    "        print(line)\n",
    "    opt = []\n",
    "    # The highest probability\n",
    "    max_prob = max(value[\"prob\"] for value in V[-1].values())\n",
    "    previous = None\n",
    "    # Get most probable state and its backtrack\n",
    "    for st, data in V[-1].items():\n",
    "        if data[\"prob\"] == max_prob:\n",
    "            opt.append(st)\n",
    "            previous = st\n",
    "            break\n",
    "    # Follow the backtrack till the first observation\n",
    "    for t in range(len(V) - 2, -1, -1):\n",
    "        opt.insert(0, V[t + 1][previous][\"prev\"])\n",
    "        previous = V[t + 1][previous][\"prev\"]\n",
    "\n",
    "    print('The steps of states are ' + ' '.join(opt) + ' with highest probability of %s' % max_prob)\n",
    "\n",
    "def dptable(V):\n",
    "    # Print a table of steps from dictionary\n",
    "    yield \" \".join((\"%12d\" % i) for i in range(len(V)))\n",
    "    for state in V[0]:\n",
    "        yield \"%.7s: \" % state + \" \".join(\"%.7s\" % (\"%f\" % v[state][\"prob\"]) for v in V)"
   ]
  },
  {
   "cell_type": "code",
   "execution_count": 19,
   "metadata": {
    "collapsed": false
   },
   "outputs": [
    {
     "name": "stdout",
     "output_type": "stream",
     "text": [
      "           0            1            2            3            4            5            6\n",
      "Mid: 0.00000 0.00000 0.00420 0.00264 0.00023 0.00000 0.00000\n",
      "End: 0.00000 0.00000 0.00000 0.00004 0.00000 0.00001 0.00000\n",
      "Onset: 0.50000 0.03000 0.00270 0.00000 0.00000 0.00000 0.00000\n",
      "The steps of states are Onset Onset Mid Mid Mid End End with highest probability of 1.9051200000000005e-06\n"
     ]
    }
   ],
   "source": [
    "viterbi(observations,\n",
    "                   states,\n",
    "                   start_probability,\n",
    "                   transition_probability,\n",
    "                   emission_probability)"
   ]
  },
  {
   "cell_type": "code",
   "execution_count": null,
   "metadata": {
    "collapsed": true
   },
   "outputs": [],
   "source": []
  }
 ],
 "metadata": {
  "anaconda-cloud": {},
  "kernelspec": {
   "display_name": "Python [conda root]",
   "language": "python",
   "name": "conda-root-py"
  },
  "language_info": {
   "codemirror_mode": {
    "name": "ipython",
    "version": 3
   },
   "file_extension": ".py",
   "mimetype": "text/x-python",
   "name": "python",
   "nbconvert_exporter": "python",
   "pygments_lexer": "ipython3",
   "version": "3.5.2"
  }
 },
 "nbformat": 4,
 "nbformat_minor": 1
}
